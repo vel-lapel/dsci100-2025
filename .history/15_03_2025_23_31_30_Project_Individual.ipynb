{
 "cells": [
  {
   "cell_type": "markdown",
   "id": "559f5e6b-5adb-42af-b622-9eff0575e254",
   "metadata": {},
   "source": [
    "# Indivudial Planning Report\n",
    "\n",
    "Name: Faye Shipp\n",
    "\n",
    "Section: 002"
   ]
  },
  {
   "cell_type": "code",
   "execution_count": null,
   "id": "99cf33f0-6802-46ea-8a6f-82d144c78fa0",
   "metadata": {},
   "outputs": [],
   "source": [
    "library(tidyverse)\n",
    "library(readxl)"
   ]
  },
  {
   "cell_type": "code",
   "execution_count": null,
   "id": "b1a80c9b-351c-421e-bea6-1aced74f3040",
   "metadata": {},
   "outputs": [],
   "source": [
    "player_data <- read_csv(\"https://raw.githubusercontent.com/vel-lapel/dsci100-2025/refs/heads/main/players.csv\")\n",
    "head(player_data)\n",
    "session_data <- read_csv(\"https://raw.githubusercontent.com/vel-lapel/dsci100-2025/refs/heads/main/sessions.csv\")\n",
    "head(session_data)\n",
    "slice(session_data, 11, 13)"
   ]
  },
  {
   "cell_type": "markdown",
   "id": "23e8bdbd-68d8-406f-a0f1-f872deb0941b",
   "metadata": {},
   "source": [
    "## 1. Data summary"
   ]
  },
  {
   "cell_type": "markdown",
   "id": "e173a87f-a953-4c92-8260-9d20bcf7e7af",
   "metadata": {},
   "source": [
    "### Player Dataset\n",
    "- There are 196 rows -> Data was collected on 196 participants\n",
    "- There are 7 columns -> Data was collected on 7 different variables\n",
    "- The columns are as follows:\n",
    "\t- experience (chr) -> a categorical variable ranking each player's experience. The options are Pro, Veteran, Amateur, Regular, Beginner\n",
    "\t- hashedEmail (chr) -> shows each player's unique hashed email. Used to identify players. \n",
    "\t- name (chr) -> the name of each player. Also used to identify players\n",
    "\t- gender (chr) -> a categorical variable showing each player's gender. The options are Agender, Female, Male, Non-Binary, Other, Prefer Not to Say, Two-Spirited\n",
    "\t- played_hours (dbl) -> a numerical value of how many total hours each player has played.\n",
    "\t- Age (dbl) -> a numerical value corresponding to the age of each player. \n",
    "\t- subscribe (lgl) -> a logical (true/false) value indicating whether or not a player has subscribed to the data collection\n",
    "\n",
    "#### Issues with the data\n",
    "- There are two observations where the age is \"n/a\"\n",
    "- There are multiple observations where played_hours is 0\n",
    "- It only gives us total hours played, not \"how many sessions played\". \n",
    "- Otherwise, the data is in a tidy format.\n",
    "\n",
    "### Session Data\n",
    "- There are 1535 rows -> There are 1535 unique play sessions\n",
    "- There are 5 columns -> data was colelcted on 5 different variables for each session\n",
    "- The columns are as follows:\n",
    "\t- hashedEmail (chr) -> shows each player's unique hashed email. Used to identify players.\n",
    "\t- start_time (chr) -> the starting time of each session, in character form\n",
    "\t- end_time (chr) -> the ending time of each session, in character form\n",
    "\t- original_start_time (dbl) -> presumably a starting time of something, in a numerical form\n",
    "\t- original_end_time (dbl) -> presumably an ending time of something, in a numerical form\n",
    "\n",
    "#### Issues with the data\n",
    "- the \"original start time\" and \"original end time\" are not very well labeled. It is unsure what they represent. There is very little variation between the two for each session.\n",
    "- start_time and end_time are character variables, which means that very few functions can be performed on them. This is not very tidy.\n"
   ]
  },
  {
   "cell_type": "markdown",
   "id": "da079c15-dcfe-4a0a-9283-4002d60d5539",
   "metadata": {},
   "source": [
    "## 2. Questions\n",
    "\n",
    "We would like to know what \"kind\" of player contributes a large amount of data to target those players in recruitment efforts.\n",
    "\n",
    "-> Given a player's age and experience, how many sessions will they play?\n",
    "\n",
    "We can use the data in \"sessions\" dataset to count the number of sessions per player, then bind that with the data in \"players\" to get a dataframe showing the number of sessions each player played. From there, we can create a KNN model that predicts the number of sessions based on the aforementioned variables. "
   ]
  },
  {
   "cell_type": "markdown",
   "id": "37e23488-4fa9-4421-98fb-db0dfe374592",
   "metadata": {},
   "source": [
    "## 3. Exploratory Data Analysis and Visualization"
   ]
  },
  {
   "cell_type": "code",
   "execution_count": null,
   "id": "7216506a-ede4-4f9c-81f0-544c6f5a04ac",
   "metadata": {},
   "outputs": [],
   "source": [
    "# Note that the data has already been loaded into this notebook."
   ]
  },
  {
   "cell_type": "code",
   "execution_count": null,
   "id": "24106f81-51bd-4106-8bef-6c51b754dddc",
   "metadata": {},
   "outputs": [],
   "source": [
    "# Calculate mean player data from the player dataframe\n",
    "mean_player_data <- player_data |> \n",
    "                    summarize(\n",
    "                        mean_played_hours = mean(played_hours),\n",
    "                        mean_age = mean(na.omit(Age))) # since there are only 2 observations where age is N/A, we'll omit those just for calculating mean(Age).\n",
    "\n",
    "\n",
    "plot1 <- player_data_no_na |> ggplot(aes(y=played_hours, x=Age)) + \n",
    "                        geom_point() +\n",
    "                        labs(x= \"Age\", y= \"Total Playtime (Hours)\", title = \"Age and Playtime of Players\") +\n",
    "                        aes(alpha= 1)\n",
    "\n",
    "\n",
    "#tidy the data --> convert the <chr> date variable into <dttm>\n",
    "session_data1 <- session_data |> mutate(start_time= as.POSIXct(start_time, format = \"%d/%m/%Y%H:%M\"), end_time= as.POSIXct(end_time, format = \"%d/%m/%Y%H:%M\"))\n",
    "\n",
    "plot2 <- session_data1 |> ggplot(aes(x=start_time))+\n",
    "                        geom_histogram() +\n",
    "                        labs(x = \"Date\", y = \"Number of sessions\", title = \"Frequency of sessions played over time\")\n",
    "\n",
    "plot2\n",
    "plot1\n",
    "mean_player_data"
   ]
  },
  {
   "cell_type": "markdown",
   "id": "357497c8-4541-4409-b382-3562c6014946",
   "metadata": {},
   "source": [
    "From the table and plots above, we see that the mean total playtime is around 5.8 hours, and that the average player is around 20 years old. \n",
    "\n",
    "Getting an overview of the total playtime, we see that players in the 15-25 range typically play the most hours. \n",
    "\n",
    "Looking at the distribution of sessions over time, it appears the data was collected from April to October of 2024, and peak data collection happened around the end of June into early July. The data is slightly skewed left. "
   ]
  },
  {
   "cell_type": "markdown",
   "id": "ca8a8407-404b-46c6-9785-84fd59fbbca3",
   "metadata": {},
   "source": [
    "## Methods and Plan\n",
    "\n",
    "##### I propose creating a KNN regression model that predicts the number of sessions played from the variables age and experience.\n",
    "\n",
    "Since number o\n",
    "\n",
    "To do this, we will:\n",
    "- from \"players\", filter out those with played_hours = 0\n",
    "- group_by and summarize the \"sessions\" data to get a count of how many sessions per player\n",
    "- sort the data "
   ]
  },
  {
   "cell_type": "code",
   "execution_count": null,
   "id": "e29b16a1-799b-4453-a666-cee741dce7ff",
   "metadata": {},
   "outputs": [],
   "source": []
  }
 ],
 "metadata": {
  "kernelspec": {
   "display_name": "R",
   "language": "R",
   "name": "ir"
  },
  "language_info": {
   "codemirror_mode": "r",
   "file_extension": ".r",
   "mimetype": "text/x-r-source",
   "name": "R",
   "pygments_lexer": "r",
   "version": "4.3.3"
  }
 },
 "nbformat": 4,
 "nbformat_minor": 5
}
