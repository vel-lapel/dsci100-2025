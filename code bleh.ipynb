{
 "cells": [
  {
   "cell_type": "code",
   "execution_count": 1,
   "id": "b601fe8b-3ee7-40ed-986a-3015c40bd002",
   "metadata": {},
   "outputs": [
    {
     "name": "stderr",
     "output_type": "stream",
     "text": [
      "── \u001b[1mAttaching core tidyverse packages\u001b[22m ──────────────────────── tidyverse 2.0.0 ──\n",
      "\u001b[32m✔\u001b[39m \u001b[34mdplyr    \u001b[39m 1.1.4     \u001b[32m✔\u001b[39m \u001b[34mreadr    \u001b[39m 2.1.5\n",
      "\u001b[32m✔\u001b[39m \u001b[34mforcats  \u001b[39m 1.0.0     \u001b[32m✔\u001b[39m \u001b[34mstringr  \u001b[39m 1.5.1\n",
      "\u001b[32m✔\u001b[39m \u001b[34mggplot2  \u001b[39m 3.5.1     \u001b[32m✔\u001b[39m \u001b[34mtibble   \u001b[39m 3.2.1\n",
      "\u001b[32m✔\u001b[39m \u001b[34mlubridate\u001b[39m 1.9.3     \u001b[32m✔\u001b[39m \u001b[34mtidyr    \u001b[39m 1.3.1\n",
      "\u001b[32m✔\u001b[39m \u001b[34mpurrr    \u001b[39m 1.0.2     \n",
      "── \u001b[1mConflicts\u001b[22m ────────────────────────────────────────── tidyverse_conflicts() ──\n",
      "\u001b[31m✖\u001b[39m \u001b[34mdplyr\u001b[39m::\u001b[32mfilter()\u001b[39m masks \u001b[34mstats\u001b[39m::filter()\n",
      "\u001b[31m✖\u001b[39m \u001b[34mdplyr\u001b[39m::\u001b[32mlag()\u001b[39m    masks \u001b[34mstats\u001b[39m::lag()\n",
      "\u001b[36mℹ\u001b[39m Use the conflicted package (\u001b[3m\u001b[34m<http://conflicted.r-lib.org/>\u001b[39m\u001b[23m) to force all conflicts to become errors\n",
      "\u001b[1mRows: \u001b[22m\u001b[34m196\u001b[39m \u001b[1mColumns: \u001b[22m\u001b[34m7\u001b[39m\n",
      "\u001b[36m──\u001b[39m \u001b[1mColumn specification\u001b[22m \u001b[36m────────────────────────────────────────────────────────\u001b[39m\n",
      "\u001b[1mDelimiter:\u001b[22m \",\"\n",
      "\u001b[31mchr\u001b[39m (4): experience, hashedEmail, name, gender\n",
      "\u001b[32mdbl\u001b[39m (2): played_hours, Age\n",
      "\u001b[33mlgl\u001b[39m (1): subscribe\n",
      "\n",
      "\u001b[36mℹ\u001b[39m Use `spec()` to retrieve the full column specification for this data.\n",
      "\u001b[36mℹ\u001b[39m Specify the column types or set `show_col_types = FALSE` to quiet this message.\n",
      "\u001b[1mRows: \u001b[22m\u001b[34m1535\u001b[39m \u001b[1mColumns: \u001b[22m\u001b[34m5\u001b[39m\n",
      "\u001b[36m──\u001b[39m \u001b[1mColumn specification\u001b[22m \u001b[36m────────────────────────────────────────────────────────\u001b[39m\n",
      "\u001b[1mDelimiter:\u001b[22m \",\"\n",
      "\u001b[31mchr\u001b[39m (3): hashedEmail, start_time, end_time\n",
      "\u001b[32mdbl\u001b[39m (2): original_start_time, original_end_time\n",
      "\n",
      "\u001b[36mℹ\u001b[39m Use `spec()` to retrieve the full column specification for this data.\n",
      "\u001b[36mℹ\u001b[39m Specify the column types or set `show_col_types = FALSE` to quiet this message.\n"
     ]
    }
   ],
   "source": [
    "library(tidyverse)\n",
    "player_data <- read_csv(\"https://raw.githubusercontent.com/vel-lapel/dsci100-2025/refs/heads/main/players.csv\")\n",
    "session_data <- read_csv(\"https://raw.githubusercontent.com/vel-lapel/dsci100-2025/refs/heads/main/sessions.csv\")\n"
   ]
  },
  {
   "cell_type": "code",
   "execution_count": 54,
   "id": "f652f971-61ab-4522-b803-c616d987b46c",
   "metadata": {},
   "outputs": [
    {
     "data": {
      "text/html": [
       "<table class=\"dataframe\">\n",
       "<caption>A data.frame: 6 × 3</caption>\n",
       "<thead>\n",
       "\t<tr><th></th><th scope=col>experience</th><th scope=col>played_hours</th><th scope=col>n_sessions</th></tr>\n",
       "\t<tr><th></th><th scope=col>&lt;int&gt;</th><th scope=col>&lt;dbl&gt;</th><th scope=col>&lt;int&gt;</th></tr>\n",
       "</thead>\n",
       "<tbody>\n",
       "\t<tr><th scope=row>1</th><td>3</td><td>1.5</td><td> 2</td></tr>\n",
       "\t<tr><th scope=row>2</th><td>5</td><td>0.4</td><td> 1</td></tr>\n",
       "\t<tr><th scope=row>3</th><td>1</td><td>0.1</td><td> 1</td></tr>\n",
       "\t<tr><th scope=row>4</th><td>3</td><td>5.6</td><td>13</td></tr>\n",
       "\t<tr><th scope=row>5</th><td>5</td><td>1.0</td><td> 2</td></tr>\n",
       "\t<tr><th scope=row>6</th><td>4</td><td>0.1</td><td> 1</td></tr>\n",
       "</tbody>\n",
       "</table>\n"
      ],
      "text/latex": [
       "A data.frame: 6 × 3\n",
       "\\begin{tabular}{r|lll}\n",
       "  & experience & played\\_hours & n\\_sessions\\\\\n",
       "  & <int> & <dbl> & <int>\\\\\n",
       "\\hline\n",
       "\t1 & 3 & 1.5 &  2\\\\\n",
       "\t2 & 5 & 0.4 &  1\\\\\n",
       "\t3 & 1 & 0.1 &  1\\\\\n",
       "\t4 & 3 & 5.6 & 13\\\\\n",
       "\t5 & 5 & 1.0 &  2\\\\\n",
       "\t6 & 4 & 0.1 &  1\\\\\n",
       "\\end{tabular}\n"
      ],
      "text/markdown": [
       "\n",
       "A data.frame: 6 × 3\n",
       "\n",
       "| <!--/--> | experience &lt;int&gt; | played_hours &lt;dbl&gt; | n_sessions &lt;int&gt; |\n",
       "|---|---|---|---|\n",
       "| 1 | 3 | 1.5 |  2 |\n",
       "| 2 | 5 | 0.4 |  1 |\n",
       "| 3 | 1 | 0.1 |  1 |\n",
       "| 4 | 3 | 5.6 | 13 |\n",
       "| 5 | 5 | 1.0 |  2 |\n",
       "| 6 | 4 | 0.1 |  1 |\n",
       "\n"
      ],
      "text/plain": [
       "  experience played_hours n_sessions\n",
       "1 3          1.5           2        \n",
       "2 5          0.4           1        \n",
       "3 1          0.1           1        \n",
       "4 3          5.6          13        \n",
       "5 5          1.0           2        \n",
       "6 4          0.1           1        "
      ]
     },
     "metadata": {},
     "output_type": "display_data"
    }
   ],
   "source": [
    "# filtered_player_data <- player_data |> filter(played_hours!=0)\n",
    "\n",
    "summarized_session_data <- session_data |> group_by(hashedEmail) |> summarize(n_sessions = length(hashedEmail))\n",
    "\n",
    "#sort_fpd <- arrange(filtered_player_data, hashedEmail)\n",
    "#sort_ssd <- arrange(summarized_session_data, hashedEmail)\n",
    "\n",
    "\n",
    "merged <- merge(sort_ssd,sort_fpd,by=\"hashedEmail\")\n",
    "merged2 <- merge(player_data, summarized_session_data, by=\"hashedEmail\")\n",
    "\n",
    "\n",
    "merged3 <- merged2 |> mutate(experience = as.factor(experience))\n",
    "merged3$experience <- as.integer(factor(merged3$experience, \n",
    "                          levels = c(\"Beginner\", \"Amateur\", \"Regular\", \"Veteran\", \n",
    "                                     \"Pro\"), ordered = TRUE))\n",
    "data <- merged3 |> select(experience, played_hours, n_sessions)\n",
    "head(data)"
   ]
  },
  {
   "cell_type": "code",
   "execution_count": null,
   "id": "fc93b430-dfc9-459c-ba99-493068cc32e2",
   "metadata": {},
   "outputs": [],
   "source": []
  }
 ],
 "metadata": {
  "kernelspec": {
   "display_name": "R",
   "language": "R",
   "name": "ir"
  },
  "language_info": {
   "codemirror_mode": "r",
   "file_extension": ".r",
   "mimetype": "text/x-r-source",
   "name": "R",
   "pygments_lexer": "r",
   "version": "4.3.3"
  }
 },
 "nbformat": 4,
 "nbformat_minor": 5
}
